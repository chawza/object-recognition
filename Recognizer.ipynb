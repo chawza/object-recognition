{
 "cells": [
  {
   "cell_type": "code",
   "execution_count": 1,
   "metadata": {},
   "outputs": [],
   "source": [
    "import numpy as np\n",
    "import cv2\n",
    "import matplotlib.pyplot as plt\n",
    "import os"
   ]
  },
  {
   "cell_type": "code",
   "execution_count": 2,
   "metadata": {},
   "outputs": [],
   "source": [
    "sift = cv2.xfeatures2d.SIFT_create()\n",
    "\n",
    "dataset_path = 'hotdog_dataset'\n",
    "#TRAIN\n",
    "train_path = dataset_path + '/train'\n",
    "\n",
    "label_list = os.listdir(train_path)\n",
    "train_dataset_kp = []"
   ]
  },
  {
   "cell_type": "code",
   "execution_count": 4,
   "metadata": {},
   "outputs": [
    {
     "name": "stdout",
     "output_type": "stream",
     "text": [
      "computing img 1.hotdog_-_evan_swigart.jpg\n",
      "computing img 10.hotdog-termasuk-dalam-6-makanan-paling-berbahaya-di-dunia-at6oqe9tqv.jpg\n",
      "computing img 11.germanvegetariansausage.jpg\n",
      "computing img 12.hotdog-royalty-free-image-185123377-1562609410.jpg\n",
      "computing img 14.hotdog-59642bf70f61450dd906ad92.jpg\n",
      "computing img 15.2.jpg\n",
      "computing img 16.ristet-hotdog-5-of-7.jpg\n",
      "computing img 17.hotdogg-5964764d83c1e62953732352.jpg\n",
      "computing img 18._107799189_p07fqj0w.jpg\n",
      "computing img 19.4279917464.jpg\n",
      "computing img 2.1e7f18e4-5b25-4f79-8d9a-e3af2bea8560_169.jpeg\n",
      "computing img 20.homemade-hotdog-buns-thumbnail.jpeg\n",
      "computing img 21.chicken%20fillet%20hotdog.jpg\n",
      "computing img 22.asal-usul-hot-dog-persaingan-2-toko-dalam-sejarah-makanan-amerika-btsqzzlsqn.jpg\n",
      "computing img 23.hotdog.jpg\n",
      "computing img 24.fed6c814-9c0a-48a3-9096-ca0d3e0daa36.jpg\n",
      "computing img 25.hotdog_0601_20180106_105119.jpg\n",
      "computing img 26.crispy-smoked-beef-hotdog.jpg\n",
      "computing img 27.antara-hamburger-dan-hotdog-mana-yang-lebih-beracun-k5tdrf0wn4.jpg\n",
      "computing img 28.hot-dog-ekonomis-foto-resep-utama.jpg\n",
      "computing img 29.6b30fc27-eb2e-4998-9fb8-14b63dfeec9b_43.jpeg\n",
      "computing img 3.hot-dog-mini-480x259-1200x720.jpg\n",
      "computing img 30.67379157_1c7451da-d61b-42c0-a66c-1e1f29ca8197_305_305.jpg\n",
      "computing img 31.d0223becbbc32aa1c037ad8216b61ede.jpg\n",
      "computing img 32.hot-dog-unik_169.jpeg\n",
      "computing img 33.photo.jpg\n",
      "computing img 34.18420_asal-usul-nama-hot-dog.jpg\n",
      "computing img 35.hotdog-tempe-kornet.jpg\n",
      "computing img 36.e07bc12f1be823fef8047c46433a549d.jpg\n",
      "computing img 37.boil-a-hot-dog-step-13-version-3.jpg\n",
      "computing img 38.hotdog-b48b740d9d292d8f3243529d834cd89af866ab47-s800-c85.jpg\n",
      "computing img 39.019397600_1502433376-hotdog.jpg\n",
      "computing img 4.photo.jpg\n",
      "computing img 40.1b22db84faa0edaeab50d4e6a0408a89.jpg\n",
      "computing img 41.hotdog-di-jakarta-02.jpg\n",
      "computing img 42.5041679_5fe6ca69-2131-4e13-b2a2-d8c4ca251261.jpg\n",
      "computing img 43.ec64b872-335b-4ca9-b3f5-ae903d48a9e2_169.jpg\n",
      "computing img 44.200473154-001-56a497ca3df78cf77283268d.jpg\n",
      "computing img 45.hotdogbig.png\n",
      "computing img 46.d714f4b0-cc3d-4096-853f-f612f7a5df6b.jpeg\n",
      "computing img 47.hotdog-empuk-foto-resep-utama.jpg\n",
      "computing img 48.high-angle-hotdogs-cutboard_23-2148273075.jpg\n",
      "computing img 49.hotdog-di-jakarta-07.jpg\n",
      "computing img 5.best-hot-dog.jpg\n",
      "computing img 50.hot-dogs_8-to-1_470x500.jpg\n",
      "computing img 51.558608_69879bee-7cee-444d-a54a-0edba5964dfe.jpg\n",
      "computing img 52.is-a-hotdog-a-sandwich-998x587.jpg\n",
      "computing img 53.italian-style-hotdog-adventskalender-wurstler.jpg\n",
      "computing img 54.foto_thumbnail_hotdog.jpg\n",
      "computing img 55.hotdog-cakwe-foto-resep-utama.jpg\n",
      "computing img 56.hotdog-di-jakarta-03.jpg\n",
      "computing img 57.o_1avc4pe361rp81ngqrla1a8619jma.jpg\n",
      "computing img 58.hotdog-kentang.jpg\n",
      "computing img 59.3518059ad4c52350ff1096968a558521.jpg\n",
      "computing img 6.spicy-hot-dog.jpg\n",
      "computing img 60.5586744_2f0f0896-eb03-4860-b67c-46a61660957b_2048_2048.jpg\n",
      "computing img 61.sausage-hotdog-with-ketchup_1339-59752.jpg\n",
      "computing img 7.photo.jpg\n",
      "computing img 8.hot-dog_20161019_122026.jpg\n",
      "computing img 9.4863438_30c2edaa-1180-492d-b1d0-21ad89f7e8cc_480_480.jpg\n",
      "computing img 1.easy-pepperoni-pizza-lead-4.jpg\n",
      "computing img 10.pepperoni-pizza-1.jpg\n",
      "computing img 11.buildyourownpizza_0.png\n",
      "computing img 13.delish-keto-pizza-073-1544039876.jpg\n",
      "computing img 14.56933159.cms.jpg\n",
      "computing img 15.2-ingredient-pizza-dough-13.jpg\n",
      "computing img 16.216054.jpg\n",
      "computing img 17.20170216-detroit-style-pizza-47-1500x1125-1.jpg\n",
      "computing img 19.cauliflower-crust-pizza-1.jpg\n",
      "computing img 2.delish-homemade-pizza-horizontal-1542312378.png\n",
      "computing img 20.5e79ac7be84d3.jpg\n",
      "computing img 22.53463-3-fcds-right-en-final_opt.jpg\n",
      "computing img 23.eq_it-na_pizza-margherita_sep2005_sml.jpg\n",
      "computing img 25.dc1f8e2a-79a9-475a-9b1e-b305449df119.jpg\n",
      "computing img 26.c9791bb3-5684-433c-8213-de0b72fccd21.png\n",
      "computing img 27.homemade-pizza_exps_hca20_376_e07_09_2b-2.jpg\n",
      "computing img 28.pizza-toppings.jpg\n",
      "computing img 29.pizzahutdelivery.jpg\n",
      "computing img 3.phut_0.jpg\n",
      "computing img 30.1562006004844.jpeg\n",
      "computing img 31.hp_pizzanwingsfamilydeal_still_optimized.jpg\n",
      "computing img 32.190528082519-pizza-hut-pan-relaunch-super-tease.jpg\n",
      "computing img 33.screen-shot-2020-03-17-at-12.34.32-am-2400x1350.jpg\n",
      "computing img 34.22339_pp_fanfavourite_gamebox_640x390.jpg\n",
      "computing img 35.buffalo-4401.png\n",
      "computing img 36.pepperoni-pizza_7.jpg\n",
      "computing img 37.homemade-pizza-dough.jpg\n",
      "computing img 38.byo_logo.jpg\n",
      "computing img 39.5-favourite-c2-reduced.80a4ae10a7ff371208f49ce625e15171.1.jpg\n",
      "computing img 4.15-minute-pizza-ws-thumbnail.png\n",
      "computing img 40.pizza-hut.jpg\n",
      "computing img 41.amatos201918.jpg\n",
      "computing img 42.pizza-recipe-1-500x375.jpg\n",
      "computing img 43.rest_557-842x720-fit_and_trim-ebc88d9f46405c3e03e4208b0e18b88c.jpeg\n",
      "computing img 45.bfv36537_cc2017_2ingredintdough4ways-fb.jpg\n",
      "computing img 46.pizza2.jpg\n",
      "computing img 47._112360461_gettyimages-1083704790.jpg\n",
      "computing img 48.dd6a294e-f605-4797-8ed2-eb64b98a7892.jpg\n",
      "computing img 49.img01.jpg\n",
      "computing img 5.classic-homemade-pizza-dough-close-500x500.jpg\n",
      "computing img 50.homemade-pizza.jpg\n",
      "computing img 51.img_4926%2b-283-29-1920w-640w.jpeg.png\n",
      "computing img 52.pepperoni-pizza-hero-large-desk.jpeg\n",
      "computing img 53.justbakedmaragaritauncut_alexandraskitchen.jpg\n",
      "computing img 54.0258928.jpg\n",
      "computing img 55.76481989.cms.jpg\n",
      "computing img 56.image.jpg\n",
      "computing img 57.sourdough-pizza-crust-closeup-500x375.jpg\n",
      "computing img 58.delicious-vegan-gluten-free-cauliflower-pizza-crust-10-ingredients-simple-methods-crispy-crust-tender-center-vegan-glutenfree-plantbased-pizza-cauliflower-minimalistbaker-recipe4.jpg\n",
      "computing img 59.gray-overlay-large.png.jpg\n",
      "computing img 6.recipe-pizza-dough-without-yeast.jpg\n",
      "computing img 60.deep-dish-pizza-san-mateo.jpg\n",
      "computing img 61.f30a556e-a0b1-4525-a019-66b317868cf7.jpg\n",
      "computing img 62.50714phil_side-1.jpg\n",
      "computing img 63.mobile-home-page.jpg\n",
      "computing img 64.d204200b-79ac-4f43-95a7-8e3bf66364b9--2020-0310_crispy-cheesy-pan-pizza-genius_3x2_julia-gartland_271.jpg\n",
      "computing img 7.gluten-free-pizza-3.2-720x405.jpg\n",
      "computing img 8.3.jpg\n",
      "computing img 9.22408-pp-april-campaign-ddb-owned-digital_hp_7.99_640x390_v3_en-1-1.jpg\n"
     ]
    }
   ],
   "source": [
    "for label in label_list:\n",
    "    label_path = train_path + '/' + label\n",
    "    img_labels = os.listdir(label_path)\n",
    "    print(\"READING LABEL \" + label)\n",
    "    \n",
    "    for img_label in img_labels:\n",
    "        img_path = label_path + '/' + img_label\n",
    "        img = cv2.imread(img_path)\n",
    "        print(f\"computing img {img_label}\")\n",
    "        kp_desc = sift.detectAndCompute(img, None)\n",
    "        train_dataset_kp.append([kp_desc[1], label])"
   ]
  },
  {
   "cell_type": "code",
   "execution_count": 50,
   "metadata": {},
   "outputs": [],
   "source": [
    "# select descriptors\n",
    "descriptors = [x[0] for x in train_dataset_kp]"
   ]
  },
  {
   "cell_type": "code",
   "execution_count": 57,
   "metadata": {},
   "outputs": [
    {
     "data": {
      "text/plain": [
       "(6812, 128)"
      ]
     },
     "execution_count": 57,
     "metadata": {},
     "output_type": "execute_result"
    }
   ],
   "source": [
    "# use knn to group up features\n",
    "descriptors[0].shape"
   ]
  },
  {
   "cell_type": "code",
   "execution_count": 61,
   "metadata": {},
   "outputs": [
    {
     "data": {
      "text/plain": [
       "6812"
      ]
     },
     "execution_count": 61,
     "metadata": {},
     "output_type": "execute_result"
    }
   ],
   "source": [
    "len(train_dataset_kp[0][0])"
   ]
  },
  {
   "cell_type": "code",
   "execution_count": null,
   "metadata": {},
   "outputs": [],
   "source": []
  }
 ],
 "metadata": {
  "kernelspec": {
   "display_name": "Python 3.7.4 64-bit ('base': conda)",
   "language": "python",
   "name": "python37464bitbaseconda6cbd4603d20848e9af27e1a84de94263"
  },
  "language_info": {
   "codemirror_mode": {
    "name": "ipython",
    "version": 3
   },
   "file_extension": ".py",
   "mimetype": "text/x-python",
   "name": "python",
   "nbconvert_exporter": "python",
   "pygments_lexer": "ipython3",
   "version": "3.7.4"
  }
 },
 "nbformat": 4,
 "nbformat_minor": 2
}
